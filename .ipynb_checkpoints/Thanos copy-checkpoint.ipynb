{
 "cells": [
  {
   "cell_type": "markdown",
   "metadata": {},
   "source": [
    "Shaymaa Hassan Aly"
   ]
  },
  {
   "cell_type": "markdown",
   "metadata": {},
   "source": [
    "<img src=\"thanos.jpg\">"
   ]
  },
  {
   "cell_type": "code",
   "execution_count": 1,
   "metadata": {},
   "outputs": [],
   "source": [
    "import random\n",
    "import os"
   ]
  },
  {
   "cell_type": "code",
   "execution_count": 2,
   "metadata": {},
   "outputs": [
    {
     "data": {
      "text/plain": [
       "['ALdiolpy.png',\n",
       " 'alegRIYf.png',\n",
       " 'aTxXOxdL.png',\n",
       " 'BatsDseU.png',\n",
       " 'bytUOStO.png',\n",
       " 'cover008.png',\n",
       " 'cover019.png',\n",
       " 'cover043.png',\n",
       " 'DDRpZqRM.png',\n",
       " 'dHycLIyH.png',\n",
       " 'dltxvERo.png',\n",
       " 'DPHhzhNP.png',\n",
       " 'dXNkbYWM.png',\n",
       " 'eeuBbDRg.png',\n",
       " 'eMZlrBLd.png',\n",
       " 'ESPTnASj.png',\n",
       " 'FepCAXgr.png',\n",
       " 'gCZEwSZX.png',\n",
       " 'GIPzEWFj.png',\n",
       " 'hbAtpKRq.png',\n",
       " 'HnvzPJSr.png',\n",
       " 'htkejFev.png',\n",
       " 'HVdKPqha.png',\n",
       " 'iIfyqQKy.png',\n",
       " 'ITunaicy.png',\n",
       " 'jGvdPDWt.png',\n",
       " 'JlfsDNcJ.png',\n",
       " 'juJzSzmz.png',\n",
       " 'MEwHqLnq.png',\n",
       " 'NhjNwXad.png',\n",
       " 'NmALxAXF.png',\n",
       " 'pgHBAauh.png',\n",
       " 'pmcQDIVS.png',\n",
       " 'pOCphzCt.png',\n",
       " 'pwHiSkSE.png',\n",
       " 'rFotzmuX.png',\n",
       " 'rUKHQgxr.png',\n",
       " 'SEmboQNd.png',\n",
       " 'shTByVqE.png',\n",
       " 'sKztthfo.png',\n",
       " 'uSrVjkTS.png',\n",
       " 'vakiZksU.png',\n",
       " 'wqImKCRu.png',\n",
       " 'xLAPrDpM.png',\n",
       " 'xQdRjfqQ.png',\n",
       " 'YgkPnGBm.png',\n",
       " 'yUvDxSqE.png',\n",
       " 'zgmpcObA.png',\n",
       " 'zlPHGAfx.png',\n",
       " 'ZPlHSDJh.png']"
      ]
     },
     "execution_count": 2,
     "metadata": {},
     "output_type": "execute_result"
    }
   ],
   "source": [
    "os.listdir('universe')"
   ]
  },
  {
   "cell_type": "code",
   "execution_count": 3,
   "metadata": {},
   "outputs": [],
   "source": [
    "images = os.listdir('universe')\n",
    "random.shuffle(images)"
   ]
  },
  {
   "cell_type": "code",
   "execution_count": 4,
   "metadata": {},
   "outputs": [],
   "source": [
    "import string\n",
    "def random_name():\n",
    "    s=string.ascii_uppercase+string.ascii_lowercase\n",
    "    rand_name = []\n",
    "    for j in range(8):\n",
    "        letter=random.choice(s)\n",
    "        rand_name.append(letter)\n",
    "    return ''.join(rand_name)+'.png'\n"
   ]
  },
  {
   "cell_type": "code",
   "execution_count": 5,
   "metadata": {},
   "outputs": [],
   "source": [
    "def rename_images():\n",
    "    \n",
    "    for i in range(len(images)//2):\n",
    "        random_names = random_name()\n",
    "        \n",
    "        choose_image = random.choice(images)\n",
    "        \n",
    "        os.rename('universe/'+choose_image,'universe/'+random_names)\n",
    "        images.remove(choose_image)"
   ]
  },
  {
   "cell_type": "code",
   "execution_count": 6,
   "metadata": {},
   "outputs": [],
   "source": [
    "rename_images()"
   ]
  },
  {
   "cell_type": "code",
   "execution_count": null,
   "metadata": {},
   "outputs": [],
   "source": []
  }
 ],
 "metadata": {
  "kernelspec": {
   "display_name": "Python 3",
   "language": "python",
   "name": "python3"
  },
  "language_info": {
   "codemirror_mode": {
    "name": "ipython",
    "version": 3
   },
   "file_extension": ".py",
   "mimetype": "text/x-python",
   "name": "python",
   "nbconvert_exporter": "python",
   "pygments_lexer": "ipython3",
   "version": "3.8.8"
  }
 },
 "nbformat": 4,
 "nbformat_minor": 2
}
